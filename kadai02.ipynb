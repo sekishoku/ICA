{
 "cells": [
  {
   "cell_type": "code",
   "execution_count": 76,
   "metadata": {},
   "outputs": [],
   "source": [
    "import numpy as np\n",
    "import scipy.io.wavfile as wvf\n",
    "\n",
    "class ICA:\n",
    "    def __init__(self,data):\n",
    "        self.data = (np.matrix(data)).astype(float)\n",
    "        self.epsilon = 0.0000001 #収束判定用\n",
    "        \n",
    "    def center(self): #平均を0にシフト\n",
    "        self.data -= np.average(self.data)\n",
    "            \n",
    "    def whiten(self): #白色化\n",
    "        sigma = np.cov(self.data, bias=True)\n",
    "        d,E = np.linalg.eigh(sigma) #エルミート行列対角化\n",
    "        D = np.matrix((d**-0.5)*np.eye(len(d)))\n",
    "        V = E * D * E.transpose()\n",
    "        z = V * self.data\n",
    "        return z\n",
    "    \n",
    "    def convergence(self,v,w): #収束判定\n",
    "        if np.linalg.norm(v - w) < self.epsilon:\n",
    "            return True\n",
    "        else:\n",
    "            return False\n",
    "        \n",
    "    def normalize(self,w): #正規化\n",
    "        if w.sum() < 0: #向きが逆のとき\n",
    "            w = -w\n",
    "        return w / np.linalg.norm(w)\n",
    "    \n",
    "    def orthogonalize(self,w,matrix_W):\n",
    "        new_matrix = np.matrix(np.vstack((matrix_W,w.transpose())))\n",
    "        Q,R = np.linalg.qr(new_matrix.transpose())\n",
    "        w_t = Q.transpose()[-1]\n",
    "        return w_t.transpose()\n",
    "    \n",
    "    def optimize(self,z): #ベクトルwの探索\n",
    "        matrix_W = np.empty((0,len(self.data)))\n",
    "        for i in range(len(self.data)):\n",
    "            w = np.random.rand(len(self.data),1)\n",
    "            w = self.normalize(w)\n",
    "            while True:\n",
    "                tot_vector = np.asarray(z) * np.asarray(np.asarray(np.dot(w.transpose(),z))**3)\n",
    "                new_w = np.asmatrix(np.average(tot_vector,axis=1)).transpose() - 3*w\n",
    "                new_w = self.orthogonalize(new_w,matrix_W)#直交化\n",
    "                new_w = self.normalize(new_w) #正規化\n",
    "                if self.convergence(new_w,w): #収束時\n",
    "                    w = new_w\n",
    "                    break\n",
    "                w = new_w\n",
    "            matrix_W = np.vstack((matrix_W,w.transpose())) #ベクトルwを積む\n",
    "        y = matrix_W*z\n",
    "        return y\n",
    "        \n",
    "    def main(self): #独立成分分析の本体\n",
    "        self.center()\n",
    "        z = self.whiten()\n",
    "        y = self.optimize(z)\n",
    "        return y\n",
    "  \n",
    "#音声ファイル用\n",
    "def ica_wav(filenames):\n",
    "    #ファイル読み込み\n",
    "    sample_rate = np.array([0 for i in range(len(filenames))])\n",
    "    for i in range(len(filenames)):\n",
    "        sample_rate[i],data_tem = wvf.read(filenames[i])\n",
    "        if i == 0:\n",
    "            data = np.array([data_tem])\n",
    "        else:\n",
    "            data = np.vstack((data,data_tem))\n",
    "    \n",
    "    #独立成分分析\n",
    "    data_ica = ICA(data).main()\n",
    "    data_ica = [(data_i * 32767 / max(np.absolute(data_i))).astype('int16') for data_i in np.asarray(data_ica)]\n",
    "    \n",
    "    #ファイル出力\n",
    "    for i in range(len(filenames)):\n",
    "        wvf.write('ica_'+filenames[i],sample_rate[i],data_ica[i])"
   ]
  },
  {
   "cell_type": "code",
   "execution_count": 77,
   "metadata": {},
   "outputs": [],
   "source": [
    "filenames = ['music1.wav','music2.wav']\n",
    "ica_wav(filenames)"
   ]
  },
  {
   "cell_type": "code",
   "execution_count": 78,
   "metadata": {},
   "outputs": [],
   "source": [
    "filenames = ['speechA1.wav','speechA2.wav']\n",
    "ica_wav(filenames)"
   ]
  },
  {
   "cell_type": "code",
   "execution_count": 80,
   "metadata": {},
   "outputs": [],
   "source": [
    "filenames = ['speechB1.wav','speechB2.wav','speechB3.wav']\n",
    "ica_wav(filenames)"
   ]
  },
  {
   "cell_type": "code",
   "execution_count": null,
   "metadata": {},
   "outputs": [],
   "source": []
  }
 ],
 "metadata": {
  "kernelspec": {
   "display_name": "Python 3",
   "language": "python",
   "name": "python3"
  },
  "language_info": {
   "codemirror_mode": {
    "name": "ipython",
    "version": 3
   },
   "file_extension": ".py",
   "mimetype": "text/x-python",
   "name": "python",
   "nbconvert_exporter": "python",
   "pygments_lexer": "ipython3",
   "version": "3.6.4"
  }
 },
 "nbformat": 4,
 "nbformat_minor": 2
}
